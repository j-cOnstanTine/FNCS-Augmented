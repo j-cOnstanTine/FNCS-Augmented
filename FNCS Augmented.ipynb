{
 "cells": [
  {
   "cell_type": "markdown",
   "id": "e49a7739",
   "metadata": {},
   "source": [
    "# FNCS Augmented"
   ]
  },
  {
   "cell_type": "markdown",
   "id": "0512c901",
   "metadata": {},
   "source": [
    "**Obiettivo:**  \n",
    "per ciascun *security control* della **NIST Special Publication 800-53 rev. 5**, contenente fra parentesi quadre dei parametri impostabili dall'Organizzazione che ne fa uso, riscrivere il testo del controllo in linguaggio naturale - utilizzando un LLM - così da presentare il controllo in forma leggibile per usi futuri."
   ]
  },
  {
   "cell_type": "markdown",
   "id": "574b45e9",
   "metadata": {},
   "source": [
    "## I dati"
   ]
  },
  {
   "cell_type": "markdown",
   "id": "29a48a05",
   "metadata": {},
   "source": [
    "Iniziamo importando i tre dataframe appositamente preparati:"
   ]
  },
  {
   "cell_type": "code",
   "execution_count": 1,
   "id": "201f5959",
   "metadata": {},
   "outputs": [],
   "source": [
    "import pandas as pd\n",
    "\n",
    "csf = pd.read_excel(\"FNCS.xlsx\", sheet_name=\"FNCS\")\n",
    "sp = pd.read_excel(\"FNCS.xlsx\", sheet_name=\"800-53rev.5\")\n",
    "cis = pd.read_excel(\"FNCS.xlsx\", sheet_name=\"CIS CSCv8\")"
   ]
  },
  {
   "cell_type": "markdown",
   "id": "db1b14e8",
   "metadata": {},
   "source": [
    "Il primo dataframe (csf) contiene il CyberSecurity Framework NIST (funzioni, categorie e sottocategorie), dove le sottocategorie costituiscono i requisiti di sicurezza da garantire.  \n",
    "La particolarità è che ogni subcategory è mappata ai relativi controlli tratti dalla Special Publication del NIST 800-53 rev. 5 e dai CIS Controls v. 8."
   ]
  },
  {
   "cell_type": "code",
   "execution_count": 6,
   "id": "8df8e05a",
   "metadata": {},
   "outputs": [
    {
     "data": {
      "text/html": [
       "<div>\n",
       "<style scoped>\n",
       "    .dataframe tbody tr th:only-of-type {\n",
       "        vertical-align: middle;\n",
       "    }\n",
       "\n",
       "    .dataframe tbody tr th {\n",
       "        vertical-align: top;\n",
       "    }\n",
       "\n",
       "    .dataframe thead th {\n",
       "        text-align: right;\n",
       "    }\n",
       "</style>\n",
       "<table border=\"1\" class=\"dataframe\">\n",
       "  <thead>\n",
       "    <tr style=\"text-align: right;\">\n",
       "      <th></th>\n",
       "      <th>Function</th>\n",
       "      <th>Category</th>\n",
       "      <th>Subcategory</th>\n",
       "      <th>NIST SP 800-53 Rev. 5</th>\n",
       "      <th>CIS CSC v8</th>\n",
       "    </tr>\n",
       "  </thead>\n",
       "  <tbody>\n",
       "    <tr>\n",
       "      <th>0</th>\n",
       "      <td>IDENTIFY (ID)</td>\n",
       "      <td>ID.AM: Asset Management - The data, personnel,...</td>\n",
       "      <td>ID.AM-1: Physical devices and systems within t...</td>\n",
       "      <td>CM-8,PM-5</td>\n",
       "      <td>1</td>\n",
       "    </tr>\n",
       "    <tr>\n",
       "      <th>1</th>\n",
       "      <td>IDENTIFY (ID)</td>\n",
       "      <td>ID.AM: Asset Management - The data, personnel,...</td>\n",
       "      <td>ID.AM-2: Software platforms and applications w...</td>\n",
       "      <td>CM-8</td>\n",
       "      <td>2.16</td>\n",
       "    </tr>\n",
       "    <tr>\n",
       "      <th>2</th>\n",
       "      <td>IDENTIFY (ID)</td>\n",
       "      <td>ID.AM: Asset Management - The data, personnel,...</td>\n",
       "      <td>ID.AM-3: Organizational communication and data...</td>\n",
       "      <td>AC-4,CA-3,CA-9,PL-8,SA-17</td>\n",
       "      <td>3</td>\n",
       "    </tr>\n",
       "    <tr>\n",
       "      <th>3</th>\n",
       "      <td>IDENTIFY (ID)</td>\n",
       "      <td>ID.AM: Asset Management - The data, personnel,...</td>\n",
       "      <td>ID.AM-4: External information systems are cata...</td>\n",
       "      <td>AC-20,PM-5,SA-9</td>\n",
       "      <td>12</td>\n",
       "    </tr>\n",
       "    <tr>\n",
       "      <th>4</th>\n",
       "      <td>IDENTIFY (ID)</td>\n",
       "      <td>ID.AM: Asset Management - The data, personnel,...</td>\n",
       "      <td>ID.AM-5: Resources (e.g., hardware, devices, d...</td>\n",
       "      <td>CP-2,RA-2,RA-9,SA-20,SC-6</td>\n",
       "      <td>3</td>\n",
       "    </tr>\n",
       "  </tbody>\n",
       "</table>\n",
       "</div>"
      ],
      "text/plain": [
       "        Function                                           Category  \\\n",
       "0  IDENTIFY (ID)  ID.AM: Asset Management - The data, personnel,...   \n",
       "1  IDENTIFY (ID)  ID.AM: Asset Management - The data, personnel,...   \n",
       "2  IDENTIFY (ID)  ID.AM: Asset Management - The data, personnel,...   \n",
       "3  IDENTIFY (ID)  ID.AM: Asset Management - The data, personnel,...   \n",
       "4  IDENTIFY (ID)  ID.AM: Asset Management - The data, personnel,...   \n",
       "\n",
       "                                         Subcategory  \\\n",
       "0  ID.AM-1: Physical devices and systems within t...   \n",
       "1  ID.AM-2: Software platforms and applications w...   \n",
       "2  ID.AM-3: Organizational communication and data...   \n",
       "3  ID.AM-4: External information systems are cata...   \n",
       "4  ID.AM-5: Resources (e.g., hardware, devices, d...   \n",
       "\n",
       "       NIST SP 800-53 Rev. 5 CIS CSC v8  \n",
       "0                  CM-8,PM-5          1  \n",
       "1                       CM-8       2.16  \n",
       "2  AC-4,CA-3,CA-9,PL-8,SA-17          3  \n",
       "3            AC-20,PM-5,SA-9         12  \n",
       "4  CP-2,RA-2,RA-9,SA-20,SC-6          3  "
      ]
     },
     "execution_count": 6,
     "metadata": {},
     "output_type": "execute_result"
    }
   ],
   "source": [
    "csf.head()"
   ]
  },
  {
   "cell_type": "markdown",
   "id": "45ae3568",
   "metadata": {},
   "source": [
    "Il secondo dataframe (sp), contiene i security controls della special publication del NIST. Ciascun controllo è identificato da un codice è ha un nome, il testo del controllo e un approfondimento che lo spiega."
   ]
  },
  {
   "cell_type": "code",
   "execution_count": 7,
   "id": "972ad536",
   "metadata": {},
   "outputs": [
    {
     "data": {
      "text/html": [
       "<div>\n",
       "<style scoped>\n",
       "    .dataframe tbody tr th:only-of-type {\n",
       "        vertical-align: middle;\n",
       "    }\n",
       "\n",
       "    .dataframe tbody tr th {\n",
       "        vertical-align: top;\n",
       "    }\n",
       "\n",
       "    .dataframe thead th {\n",
       "        text-align: right;\n",
       "    }\n",
       "</style>\n",
       "<table border=\"1\" class=\"dataframe\">\n",
       "  <thead>\n",
       "    <tr style=\"text-align: right;\">\n",
       "      <th></th>\n",
       "      <th>Control Identifier</th>\n",
       "      <th>Control Name</th>\n",
       "      <th>Control</th>\n",
       "      <th>Discussion</th>\n",
       "    </tr>\n",
       "  </thead>\n",
       "  <tbody>\n",
       "    <tr>\n",
       "      <th>0</th>\n",
       "      <td>AC-1</td>\n",
       "      <td>Policy and Procedures</td>\n",
       "      <td>a. Develop, document, and disseminate to [Assi...</td>\n",
       "      <td>Access control policy and procedures address t...</td>\n",
       "    </tr>\n",
       "    <tr>\n",
       "      <th>1</th>\n",
       "      <td>AC-2</td>\n",
       "      <td>Account Management</td>\n",
       "      <td>a. Define and document the types of accounts a...</td>\n",
       "      <td>Examples of system account types include indiv...</td>\n",
       "    </tr>\n",
       "    <tr>\n",
       "      <th>2</th>\n",
       "      <td>AC-2</td>\n",
       "      <td>Account Management | Automated System Account ...</td>\n",
       "      <td>Support the management of system accounts usin...</td>\n",
       "      <td>Automated system account management includes u...</td>\n",
       "    </tr>\n",
       "    <tr>\n",
       "      <th>3</th>\n",
       "      <td>AC-2</td>\n",
       "      <td>Account Management | Automated Temporary and E...</td>\n",
       "      <td>Automatically [Selection: remove; disable] tem...</td>\n",
       "      <td>Management of temporary and emergency accounts...</td>\n",
       "    </tr>\n",
       "    <tr>\n",
       "      <th>4</th>\n",
       "      <td>AC-2</td>\n",
       "      <td>Account Management | Disable Accounts</td>\n",
       "      <td>Disable accounts within [Assignment: organizat...</td>\n",
       "      <td>Disabling expired, inactive, or otherwise anom...</td>\n",
       "    </tr>\n",
       "  </tbody>\n",
       "</table>\n",
       "</div>"
      ],
      "text/plain": [
       "  Control Identifier                                       Control Name  \\\n",
       "0               AC-1                              Policy and Procedures   \n",
       "1               AC-2                                 Account Management   \n",
       "2               AC-2  Account Management | Automated System Account ...   \n",
       "3               AC-2  Account Management | Automated Temporary and E...   \n",
       "4               AC-2              Account Management | Disable Accounts   \n",
       "\n",
       "                                             Control  \\\n",
       "0  a. Develop, document, and disseminate to [Assi...   \n",
       "1  a. Define and document the types of accounts a...   \n",
       "2  Support the management of system accounts usin...   \n",
       "3  Automatically [Selection: remove; disable] tem...   \n",
       "4  Disable accounts within [Assignment: organizat...   \n",
       "\n",
       "                                          Discussion  \n",
       "0  Access control policy and procedures address t...  \n",
       "1  Examples of system account types include indiv...  \n",
       "2  Automated system account management includes u...  \n",
       "3  Management of temporary and emergency accounts...  \n",
       "4  Disabling expired, inactive, or otherwise anom...  "
      ]
     },
     "execution_count": 7,
     "metadata": {},
     "output_type": "execute_result"
    }
   ],
   "source": [
    "sp.head()"
   ]
  },
  {
   "cell_type": "markdown",
   "id": "e3e5485f",
   "metadata": {},
   "source": [
    "Analogamente, il terzo dataframe (cis) contiene i controlli CIS, identificati dal proprio ID e costituiti dal nome del controllo e dalla relativa descrizione."
   ]
  },
  {
   "cell_type": "code",
   "execution_count": 8,
   "id": "a2b48f66",
   "metadata": {},
   "outputs": [
    {
     "data": {
      "text/html": [
       "<div>\n",
       "<style scoped>\n",
       "    .dataframe tbody tr th:only-of-type {\n",
       "        vertical-align: middle;\n",
       "    }\n",
       "\n",
       "    .dataframe tbody tr th {\n",
       "        vertical-align: top;\n",
       "    }\n",
       "\n",
       "    .dataframe thead th {\n",
       "        text-align: right;\n",
       "    }\n",
       "</style>\n",
       "<table border=\"1\" class=\"dataframe\">\n",
       "  <thead>\n",
       "    <tr style=\"text-align: right;\">\n",
       "      <th></th>\n",
       "      <th>Control ID</th>\n",
       "      <th>Control</th>\n",
       "      <th>Description</th>\n",
       "    </tr>\n",
       "  </thead>\n",
       "  <tbody>\n",
       "    <tr>\n",
       "      <th>0</th>\n",
       "      <td>1</td>\n",
       "      <td>Inventory and Control of Enterprise Assets</td>\n",
       "      <td>Actively manage (inventory, track, and correct...</td>\n",
       "    </tr>\n",
       "    <tr>\n",
       "      <th>1</th>\n",
       "      <td>1</td>\n",
       "      <td>Establish and Maintain Detailed Enterprise Ass...</td>\n",
       "      <td>Establish and maintain an accurate, detailed, ...</td>\n",
       "    </tr>\n",
       "    <tr>\n",
       "      <th>2</th>\n",
       "      <td>1</td>\n",
       "      <td>Address Unauthorized Assets</td>\n",
       "      <td>Ensure that a process exists to address unauth...</td>\n",
       "    </tr>\n",
       "    <tr>\n",
       "      <th>3</th>\n",
       "      <td>1</td>\n",
       "      <td>Utilize an Active Discovery Tool</td>\n",
       "      <td>Utilize an active discovery tool to identify a...</td>\n",
       "    </tr>\n",
       "    <tr>\n",
       "      <th>4</th>\n",
       "      <td>1</td>\n",
       "      <td>Use Dynamic Host Configuration Protocol (DHCP)...</td>\n",
       "      <td>Use DHCP logging on all DHCP servers or Intern...</td>\n",
       "    </tr>\n",
       "  </tbody>\n",
       "</table>\n",
       "</div>"
      ],
      "text/plain": [
       "   Control ID                                            Control  \\\n",
       "0           1         Inventory and Control of Enterprise Assets   \n",
       "1           1  Establish and Maintain Detailed Enterprise Ass...   \n",
       "2           1                        Address Unauthorized Assets   \n",
       "3           1                   Utilize an Active Discovery Tool   \n",
       "4           1  Use Dynamic Host Configuration Protocol (DHCP)...   \n",
       "\n",
       "                                         Description  \n",
       "0  Actively manage (inventory, track, and correct...  \n",
       "1  Establish and maintain an accurate, detailed, ...  \n",
       "2  Ensure that a process exists to address unauth...  \n",
       "3  Utilize an active discovery tool to identify a...  \n",
       "4  Use DHCP logging on all DHCP servers or Intern...  "
      ]
     },
     "execution_count": 8,
     "metadata": {},
     "output_type": "execute_result"
    }
   ],
   "source": [
    "cis.head()"
   ]
  },
  {
   "cell_type": "markdown",
   "id": "522cb740",
   "metadata": {},
   "source": [
    "Pertanto, ad esempio, alla prima subcategory del CSF:"
   ]
  },
  {
   "cell_type": "code",
   "execution_count": 12,
   "id": "fcdb53e7",
   "metadata": {},
   "outputs": [
    {
     "data": {
      "text/plain": [
       "'ID.AM-1: Physical devices and systems within the organization are inventoried'"
      ]
     },
     "execution_count": 12,
     "metadata": {},
     "output_type": "execute_result"
    }
   ],
   "source": [
    "csf.iloc[0,2]"
   ]
  },
  {
   "cell_type": "markdown",
   "id": "a7e7e882",
   "metadata": {},
   "source": [
    "Corrispondono i seguenti controlli NIST:"
   ]
  },
  {
   "cell_type": "code",
   "execution_count": 13,
   "id": "2e2d4dae",
   "metadata": {},
   "outputs": [
    {
     "data": {
      "text/plain": [
       "'CM-8,PM-5'"
      ]
     },
     "execution_count": 13,
     "metadata": {},
     "output_type": "execute_result"
    }
   ],
   "source": [
    "csf.iloc[0,3]"
   ]
  },
  {
   "cell_type": "markdown",
   "id": "b00f497d",
   "metadata": {},
   "source": [
    "E CIS:"
   ]
  },
  {
   "cell_type": "code",
   "execution_count": 14,
   "id": "a721acdb",
   "metadata": {},
   "outputs": [
    {
     "data": {
      "text/plain": [
       "1"
      ]
     },
     "execution_count": 14,
     "metadata": {},
     "output_type": "execute_result"
    }
   ],
   "source": [
    "csf.iloc[0,4]"
   ]
  },
  {
   "cell_type": "markdown",
   "id": "568a7aeb",
   "metadata": {},
   "source": [
    "Ossia:"
   ]
  },
  {
   "cell_type": "markdown",
   "id": "310a3a47",
   "metadata": {},
   "source": [
    "NIST CM-8:"
   ]
  },
  {
   "cell_type": "code",
   "execution_count": 21,
   "id": "0a57b56d",
   "metadata": {},
   "outputs": [
    {
     "data": {
      "text/html": [
       "<div>\n",
       "<style scoped>\n",
       "    .dataframe tbody tr th:only-of-type {\n",
       "        vertical-align: middle;\n",
       "    }\n",
       "\n",
       "    .dataframe tbody tr th {\n",
       "        vertical-align: top;\n",
       "    }\n",
       "\n",
       "    .dataframe thead th {\n",
       "        text-align: right;\n",
       "    }\n",
       "</style>\n",
       "<table border=\"1\" class=\"dataframe\">\n",
       "  <thead>\n",
       "    <tr style=\"text-align: right;\">\n",
       "      <th></th>\n",
       "      <th>Control Identifier</th>\n",
       "      <th>Control Name</th>\n",
       "      <th>Control</th>\n",
       "      <th>Discussion</th>\n",
       "    </tr>\n",
       "  </thead>\n",
       "  <tbody>\n",
       "    <tr>\n",
       "      <th>263</th>\n",
       "      <td>CM-8</td>\n",
       "      <td>System Component Inventory</td>\n",
       "      <td>a. Develop and document an inventory of system...</td>\n",
       "      <td>System components are discrete, identifiable i...</td>\n",
       "    </tr>\n",
       "    <tr>\n",
       "      <th>264</th>\n",
       "      <td>CM-8</td>\n",
       "      <td>System Component Inventory | Updates During In...</td>\n",
       "      <td>Update the inventory of system components as p...</td>\n",
       "      <td>Organizations can improve the accuracy, comple...</td>\n",
       "    </tr>\n",
       "    <tr>\n",
       "      <th>265</th>\n",
       "      <td>CM-8</td>\n",
       "      <td>System Component Inventory | Automated Mainten...</td>\n",
       "      <td>Maintain the currency, completeness, accuracy,...</td>\n",
       "      <td>Organizations maintain system inventories to t...</td>\n",
       "    </tr>\n",
       "    <tr>\n",
       "      <th>266</th>\n",
       "      <td>CM-8</td>\n",
       "      <td>System Component Inventory | Automated Unautho...</td>\n",
       "      <td>(a) Detect the presence of unauthorized hardwa...</td>\n",
       "      <td>Automated unauthorized component detection is ...</td>\n",
       "    </tr>\n",
       "    <tr>\n",
       "      <th>267</th>\n",
       "      <td>CM-8</td>\n",
       "      <td>System Component Inventory | Accountability In...</td>\n",
       "      <td>Include in the system component inventory info...</td>\n",
       "      <td>Identifying individuals who are responsible an...</td>\n",
       "    </tr>\n",
       "    <tr>\n",
       "      <th>268</th>\n",
       "      <td>CM-8</td>\n",
       "      <td>System Component Inventory | Assessed Configur...</td>\n",
       "      <td>Include assessed component configurations and ...</td>\n",
       "      <td>Assessed configurations and approved deviation...</td>\n",
       "    </tr>\n",
       "    <tr>\n",
       "      <th>269</th>\n",
       "      <td>CM-8</td>\n",
       "      <td>System Component Inventory | Centralized Repos...</td>\n",
       "      <td>Provide a centralized repository for the inven...</td>\n",
       "      <td>Organizations may implement centralized system...</td>\n",
       "    </tr>\n",
       "    <tr>\n",
       "      <th>270</th>\n",
       "      <td>CM-8</td>\n",
       "      <td>System Component Inventory | Automated Locatio...</td>\n",
       "      <td>Support the tracking of system components by g...</td>\n",
       "      <td>The use of automated mechanisms to track the l...</td>\n",
       "    </tr>\n",
       "    <tr>\n",
       "      <th>271</th>\n",
       "      <td>CM-8</td>\n",
       "      <td>System Component Inventory | Assignment of Com...</td>\n",
       "      <td>(a) Assign system components to a system; and\\...</td>\n",
       "      <td>System components that are not assigned to a s...</td>\n",
       "    </tr>\n",
       "  </tbody>\n",
       "</table>\n",
       "</div>"
      ],
      "text/plain": [
       "    Control Identifier                                       Control Name  \\\n",
       "263               CM-8                         System Component Inventory   \n",
       "264               CM-8  System Component Inventory | Updates During In...   \n",
       "265               CM-8  System Component Inventory | Automated Mainten...   \n",
       "266               CM-8  System Component Inventory | Automated Unautho...   \n",
       "267               CM-8  System Component Inventory | Accountability In...   \n",
       "268               CM-8  System Component Inventory | Assessed Configur...   \n",
       "269               CM-8  System Component Inventory | Centralized Repos...   \n",
       "270               CM-8  System Component Inventory | Automated Locatio...   \n",
       "271               CM-8  System Component Inventory | Assignment of Com...   \n",
       "\n",
       "                                               Control  \\\n",
       "263  a. Develop and document an inventory of system...   \n",
       "264  Update the inventory of system components as p...   \n",
       "265  Maintain the currency, completeness, accuracy,...   \n",
       "266  (a) Detect the presence of unauthorized hardwa...   \n",
       "267  Include in the system component inventory info...   \n",
       "268  Include assessed component configurations and ...   \n",
       "269  Provide a centralized repository for the inven...   \n",
       "270  Support the tracking of system components by g...   \n",
       "271  (a) Assign system components to a system; and\\...   \n",
       "\n",
       "                                            Discussion  \n",
       "263  System components are discrete, identifiable i...  \n",
       "264  Organizations can improve the accuracy, comple...  \n",
       "265  Organizations maintain system inventories to t...  \n",
       "266  Automated unauthorized component detection is ...  \n",
       "267  Identifying individuals who are responsible an...  \n",
       "268  Assessed configurations and approved deviation...  \n",
       "269  Organizations may implement centralized system...  \n",
       "270  The use of automated mechanisms to track the l...  \n",
       "271  System components that are not assigned to a s...  "
      ]
     },
     "execution_count": 21,
     "metadata": {},
     "output_type": "execute_result"
    }
   ],
   "source": [
    "mask = sp[\"Control Identifier\"] == \"CM-8\"\n",
    "sp[mask]"
   ]
  },
  {
   "cell_type": "markdown",
   "id": "f646e47e",
   "metadata": {},
   "source": [
    "NIST PM-5:"
   ]
  },
  {
   "cell_type": "code",
   "execution_count": 22,
   "id": "61bda9d9",
   "metadata": {},
   "outputs": [
    {
     "data": {
      "text/html": [
       "<div>\n",
       "<style scoped>\n",
       "    .dataframe tbody tr th:only-of-type {\n",
       "        vertical-align: middle;\n",
       "    }\n",
       "\n",
       "    .dataframe tbody tr th {\n",
       "        vertical-align: top;\n",
       "    }\n",
       "\n",
       "    .dataframe thead th {\n",
       "        text-align: right;\n",
       "    }\n",
       "</style>\n",
       "<table border=\"1\" class=\"dataframe\">\n",
       "  <thead>\n",
       "    <tr style=\"text-align: right;\">\n",
       "      <th></th>\n",
       "      <th>Control Identifier</th>\n",
       "      <th>Control Name</th>\n",
       "      <th>Control</th>\n",
       "      <th>Discussion</th>\n",
       "    </tr>\n",
       "  </thead>\n",
       "  <tbody>\n",
       "    <tr>\n",
       "      <th>541</th>\n",
       "      <td>PM-5</td>\n",
       "      <td>System Inventory</td>\n",
       "      <td>Develop and update [Assignment: organization-d...</td>\n",
       "      <td>[OMB A-130] provides guidance on developing sy...</td>\n",
       "    </tr>\n",
       "    <tr>\n",
       "      <th>542</th>\n",
       "      <td>PM-5</td>\n",
       "      <td>System Inventory | Inventory of Personally Ide...</td>\n",
       "      <td>Establish, maintain, and update [Assignment: o...</td>\n",
       "      <td>An inventory of systems, applications, and pro...</td>\n",
       "    </tr>\n",
       "  </tbody>\n",
       "</table>\n",
       "</div>"
      ],
      "text/plain": [
       "    Control Identifier                                       Control Name  \\\n",
       "541               PM-5                                   System Inventory   \n",
       "542               PM-5  System Inventory | Inventory of Personally Ide...   \n",
       "\n",
       "                                               Control  \\\n",
       "541  Develop and update [Assignment: organization-d...   \n",
       "542  Establish, maintain, and update [Assignment: o...   \n",
       "\n",
       "                                            Discussion  \n",
       "541  [OMB A-130] provides guidance on developing sy...  \n",
       "542  An inventory of systems, applications, and pro...  "
      ]
     },
     "execution_count": 22,
     "metadata": {},
     "output_type": "execute_result"
    }
   ],
   "source": [
    "mask = sp[\"Control Identifier\"] == \"PM-5\"\n",
    "sp[mask]"
   ]
  },
  {
   "cell_type": "markdown",
   "id": "7c2f1bf7",
   "metadata": {},
   "source": [
    "CIS 1:"
   ]
  },
  {
   "cell_type": "code",
   "execution_count": 24,
   "id": "9fa05493",
   "metadata": {},
   "outputs": [
    {
     "data": {
      "text/html": [
       "<div>\n",
       "<style scoped>\n",
       "    .dataframe tbody tr th:only-of-type {\n",
       "        vertical-align: middle;\n",
       "    }\n",
       "\n",
       "    .dataframe tbody tr th {\n",
       "        vertical-align: top;\n",
       "    }\n",
       "\n",
       "    .dataframe thead th {\n",
       "        text-align: right;\n",
       "    }\n",
       "</style>\n",
       "<table border=\"1\" class=\"dataframe\">\n",
       "  <thead>\n",
       "    <tr style=\"text-align: right;\">\n",
       "      <th></th>\n",
       "      <th>Control ID</th>\n",
       "      <th>Control</th>\n",
       "      <th>Description</th>\n",
       "    </tr>\n",
       "  </thead>\n",
       "  <tbody>\n",
       "    <tr>\n",
       "      <th>0</th>\n",
       "      <td>1</td>\n",
       "      <td>Inventory and Control of Enterprise Assets</td>\n",
       "      <td>Actively manage (inventory, track, and correct...</td>\n",
       "    </tr>\n",
       "    <tr>\n",
       "      <th>1</th>\n",
       "      <td>1</td>\n",
       "      <td>Establish and Maintain Detailed Enterprise Ass...</td>\n",
       "      <td>Establish and maintain an accurate, detailed, ...</td>\n",
       "    </tr>\n",
       "    <tr>\n",
       "      <th>2</th>\n",
       "      <td>1</td>\n",
       "      <td>Address Unauthorized Assets</td>\n",
       "      <td>Ensure that a process exists to address unauth...</td>\n",
       "    </tr>\n",
       "    <tr>\n",
       "      <th>3</th>\n",
       "      <td>1</td>\n",
       "      <td>Utilize an Active Discovery Tool</td>\n",
       "      <td>Utilize an active discovery tool to identify a...</td>\n",
       "    </tr>\n",
       "    <tr>\n",
       "      <th>4</th>\n",
       "      <td>1</td>\n",
       "      <td>Use Dynamic Host Configuration Protocol (DHCP)...</td>\n",
       "      <td>Use DHCP logging on all DHCP servers or Intern...</td>\n",
       "    </tr>\n",
       "    <tr>\n",
       "      <th>5</th>\n",
       "      <td>1</td>\n",
       "      <td>Use a Passive Asset Discovery Tool</td>\n",
       "      <td>Use a passive discovery tool to identify asset...</td>\n",
       "    </tr>\n",
       "  </tbody>\n",
       "</table>\n",
       "</div>"
      ],
      "text/plain": [
       "   Control ID                                            Control  \\\n",
       "0           1         Inventory and Control of Enterprise Assets   \n",
       "1           1  Establish and Maintain Detailed Enterprise Ass...   \n",
       "2           1                        Address Unauthorized Assets   \n",
       "3           1                   Utilize an Active Discovery Tool   \n",
       "4           1  Use Dynamic Host Configuration Protocol (DHCP)...   \n",
       "5           1                 Use a Passive Asset Discovery Tool   \n",
       "\n",
       "                                         Description  \n",
       "0  Actively manage (inventory, track, and correct...  \n",
       "1  Establish and maintain an accurate, detailed, ...  \n",
       "2  Ensure that a process exists to address unauth...  \n",
       "3  Utilize an active discovery tool to identify a...  \n",
       "4  Use DHCP logging on all DHCP servers or Intern...  \n",
       "5  Use a passive discovery tool to identify asset...  "
      ]
     },
     "execution_count": 24,
     "metadata": {},
     "output_type": "execute_result"
    }
   ],
   "source": [
    "mask = cis[\"Control ID\"] == 1\n",
    "cis[mask]"
   ]
  },
  {
   "cell_type": "markdown",
   "id": "9099d123",
   "metadata": {},
   "source": [
    "Conseguentemente, un requisito di sicurezza (subcategory) può tradursi in moteplici controlli di sicurezza specifici.  \n",
    "E' possibile anche che uno o più controlli NIST si sovrappongano (come contenuto sostanziale) a quelli CIS e viceversa."
   ]
  },
  {
   "cell_type": "markdown",
   "id": "14dfadd9",
   "metadata": {},
   "source": [
    "## Analisi di un caso singolo"
   ]
  },
  {
   "cell_type": "markdown",
   "id": "6c983482",
   "metadata": {},
   "source": [
    "Analizziamo la prima subcategory:"
   ]
  },
  {
   "cell_type": "code",
   "execution_count": 4,
   "id": "b1dc9e3e",
   "metadata": {},
   "outputs": [
    {
     "data": {
      "text/plain": [
       "'ID.AM-1: Physical devices and systems within the organization are inventoried'"
      ]
     },
     "execution_count": 4,
     "metadata": {},
     "output_type": "execute_result"
    }
   ],
   "source": [
    "csf.iloc[0,2]"
   ]
  },
  {
   "cell_type": "markdown",
   "id": "5ac74c46",
   "metadata": {},
   "source": [
    "La quale sostanzialmente richiede di effettuare il censimento dei sistemi e dei devices.  \n",
    "Prendiamo solamente il primo dei controlli NIST applicabili (declinato in nome del controlo, controllo e discussione):"
   ]
  },
  {
   "cell_type": "code",
   "execution_count": 5,
   "id": "7627faf9",
   "metadata": {},
   "outputs": [
    {
     "data": {
      "text/plain": [
       "'System Component Inventory'"
      ]
     },
     "execution_count": 5,
     "metadata": {},
     "output_type": "execute_result"
    }
   ],
   "source": [
    "mask = sp[\"Control Identifier\"] == \"CM-8\"\n",
    "sp[mask].loc[263,\"Control Name\"]"
   ]
  },
  {
   "cell_type": "code",
   "execution_count": 6,
   "id": "5aaea6cd",
   "metadata": {},
   "outputs": [
    {
     "name": "stdout",
     "output_type": "stream",
     "text": [
      "a. Develop and document an inventory of system components that:\n",
      "1. Accurately reflects the system;\n",
      "2. Includes all components within the system;\n",
      "3. Does not include duplicate accounting of components or components assigned to any other system;\n",
      "4. Is at the level of granularity deemed necessary for tracking and reporting; and\n",
      "5. Includes the following information to achieve system component accountability: [Assignment: organization-defined information deemed necessary to achieve effective system component accountability]; and\n",
      "b. Review and update the system component inventory [Assignment: organization-defined frequency].\n"
     ]
    }
   ],
   "source": [
    "mask = sp[\"Control Identifier\"] == \"CM-8\"\n",
    "print(sp[mask].loc[263, \"Control\"])"
   ]
  },
  {
   "cell_type": "code",
   "execution_count": 7,
   "id": "0d42420e",
   "metadata": {},
   "outputs": [
    {
     "name": "stdout",
     "output_type": "stream",
     "text": [
      "System components are discrete, identifiable information technology assets that include hardware, software, and firmware. Organizations may choose to implement centralized system component inventories that include components from all organizational systems. In such situations, organizations ensure that the inventories include system-specific information required for component accountability. The information necessary for effective accountability of system components includes the system name, software owners, software version numbers, hardware inventory specifications, software license information, and for networked components, the machine names and network addresses across all implemented protocols (e.g., IPv4, IPv6). Inventory specifications include date of receipt, cost, model, serial number, manufacturer, supplier information, component type,  and physical location.\n",
      "Preventing duplicate accounting of system components addresses the lack of accountability that occurs when component ownership and system association is not known, especially in large or complex connected systems. Effective prevention of duplicate accounting of system components necessitates use of a unique identifier for each component. For software inventory, centrally managed software that is accessed via other systems is addressed as a component of the system on which it is installed and managed. Software installed on multiple organizational systems and managed at the system level is addressed for each individual system and may appear more than once in a centralized component inventory, necessitating a system association for each software instance in the centralized inventory to avoid duplicate accounting of components. Scanning systems implementing multiple network protocols (e.g., IPv4 and IPv6) can result in duplicate components being identified in different address spaces. The implementation of CM-8(7) can help to eliminate duplicate accounting of components.\n"
     ]
    }
   ],
   "source": [
    "mask = sp[\"Control Identifier\"] == \"CM-8\"\n",
    "print(sp[mask].loc[263, \"Discussion\"])"
   ]
  },
  {
   "cell_type": "markdown",
   "id": "ddc7e7cf",
   "metadata": {},
   "source": [
    "Da tale esempio deriva in particolare la difficoltà presente con riferimento alla documentazione NIST, la quale include nel testo dei controlli alcuni **parametri** racchiusi fra parentesi quadre e riempibili dall'Organizzazione che vuole applicare il controllo."
   ]
  },
  {
   "cell_type": "markdown",
   "id": "4e2e5eb9",
   "metadata": {},
   "source": [
    "Riassumendo quanto rilevato sino ad adesso:  \n",
    "- una subcategory si può declinare in uno o più controlli NIST/CIS\n",
    "- alcuni controlli potrebbero sovrapporsi ad altri e costituire quindi dei possibili \"duplicati\"\n",
    "- alcuni controlli potrebbero contenere del testo particolare racchiuso fra parentesi quadre"
   ]
  },
  {
   "cell_type": "markdown",
   "id": "b207a4d9",
   "metadata": {},
   "source": [
    "## Il task"
   ]
  },
  {
   "cell_type": "markdown",
   "id": "64cca6b5",
   "metadata": {},
   "source": [
    "Il task da realizzare è dunque quello di riscrivere i controlli NIST in modo da sostituire i parametri contenuti fra parentesi quadre con testo espresso in un linguaggio naturale.  \n",
    "Potremmo usare il seguente prompt:"
   ]
  },
  {
   "cell_type": "code",
   "execution_count": 2,
   "id": "570587a1",
   "metadata": {},
   "outputs": [],
   "source": [
    "template = \"\"\"\n",
    "Analyze the security control from NIST Special Publication 800-53 rev. 5 that I am transmitting to you.\n",
    "The transmitted control may or may not contain particular text - called PARAMETER - enclosed in square brackets. Regarding this particular text, consider the following explanation:\n",
    "'For some controls, additional flexibility is provided by allowing organizations to define specific values for designated parameters associated with the controls. Flexibility is achieved as part of a tailoring process using assignment and selection operations embedded within the controls and enclosed by brackets. The assignment and selection operations give organizations the capability to customize controls based on organizational security and privacy requirements. In contrast to assignment operations which allow complete flexibility in the designation of parameter values, selection operations narrow the range of potential values by providing a specific list of items from which organizations choose.\n",
    "Determination of the organization-defined parameters can evolve from many sources, including laws, executive orders, directives, regulations, policies, standards, guidance, and mission or business needs. Organizational risk assessments and risk tolerance are also important factors in determining the values for control parameters. Once specified by the organization, the values for the assignment and selection operations become a part of the control.'\n",
    "Your task is:\n",
    "- analyze the text of the control\n",
    "- check for the presence of parameters\n",
    "- if there are no parameters, respond with the word 'None'\n",
    "- if there are parameters, rewrite them all (summarizing their content) in natural language and remove the square brackets, then return the original text of the control integrated with the parts you have rewritten.\n",
    "Do not invent anything and do not add anything else such as comments, premises, conclusions, and explanations in your response, just return 'None' if there are no parameters or the rewritten control text.\n",
    "Below are some examples:\n",
    "\n",
    "Control:\n",
    "a. Develop and document an inventory of system components that:\n",
    "- Accurately reflects the system;\n",
    "- Includes all components within the system;\n",
    "- Does not include duplicate accounting of components or components assigned to any other system;\n",
    "- Is at the level of granularity deemed necessary for tracking and reporting; and\n",
    "- Includes the following information to achieve system component accountability: [Assignment: organization-defined information deemed necessary to achieve effective system component accountability]; and\n",
    "b. Review and update the system component inventory [Assignment: organization-defined frequency].\n",
    "\n",
    "Answer:\n",
    "a. Develop and document an inventory of system components that:\n",
    "- Accurately reflects the system;\n",
    "- Includes all components within the system;\n",
    "- Does not include duplicate accounting of components or components assigned to any other system;\n",
    "- Is at the level of granularity deemed necessary for tracking and reporting; and\n",
    "- Includes the information defined by the Organization and considered necessary to ensure effective system components accountability; and\n",
    "b. Review and update the system component inventory according to the frequency defined by the Organization.\n",
    "\n",
    "Control:\n",
    "Include in the system component inventory information, a means for identifying by [Assignment (one or more): name, position, role], individuals responsible and accountable for administering those components.\n",
    "\n",
    "Answer:\n",
    "Include in the system component inventory information, a means for identifying, by name, position, or role, the individuals responsible and accountable for administering those components.\n",
    "\n",
    "Control:\n",
    "a. Develop, document, and disseminate to [Assignment: organization-defined personnel or roles]:\n",
    "1. [Selection (one or more): organization-level; mission/business process-level; system-level] access control policy that:\n",
    "(a) Addresses purpose, scope, roles, responsibilities, management commitment, coordination among organizational entities, and compliance; and\n",
    "(b) Is consistent with applicable laws, executive orders, directives, regulations, policies, standards, and guidelines; and\n",
    "2. Procedures to facilitate the implementation of the access control policy and the associated access controls;\n",
    "b. Designate an [Assignment: organization-defined official] to manage the development, documentation, and dissemination of the access control policy and procedures; and\n",
    "c. Review and update the current access control:\n",
    "1. Policy [Assignment: organization-defined frequency] and following [Assignment: organization-defined events]; and\n",
    "2. Procedures [Assignment: organization-defined frequency] and following [Assignment: organization-defined events].\n",
    "\n",
    "Answer:\n",
    "a. Develop, document, and disseminate to personnel or roles defined by the Organization:\n",
    "1. An organization-level, mission/business process-level or system-level access control policy that:\n",
    "(a) Addresses purpose, scope, roles, responsibilities, management commitment, coordination among organizational entities, and compliance; and\n",
    "(b) Is consistent with applicable laws, executive orders, directives, regulations, policies, standards, and guidelines; and\n",
    "2. Procedures to facilitate the implementation of the access control policy and the associated access controls;\n",
    "b. Designate an official definid by the Organization to manage the development, documentation, and dissemination of the access control policy and procedures; and\n",
    "c. Review and update the current access control:\n",
    "1. Policy at a frequency defined by the Organization and following events defined by the Organization; and\n",
    "2. Procedures at a frequency defined by the Organization and following events defined by the Organization.\n",
    "\n",
    "Control:\n",
    "Automatically audit account creation, modification, enabling, disabling, and removal actions.\n",
    "\n",
    "Answer:\n",
    "None\n",
    "\n",
    "Control:\n",
    "{control}\n",
    "\n",
    "Answer:\n",
    "\"\"\""
   ]
  },
  {
   "cell_type": "markdown",
   "id": "b69279f4",
   "metadata": {},
   "source": [
    "Nel prompt sostanzialmente dico al modello di analizzare il testo del controllo di sicurezza che gli passerò, il quale potrebbe contenere dei parametri racchiusi fra parentesi quadre, e fornisco la spiegazione - presa direttamente dalla NIST SP - di cosa sono i parametri e di quale sia il loro scopo.  \n",
    "Pertanto, chiedo al modello di riscrivere in linguaggio naturale (riassumendoli) i parametri contenuti nel controllo, oppure di ritornare un semplice \"None\" nel caso non siano presenti parametri.  \n",
    "Infine fornisco esempi di controlli e relative riscritture (tecnica *few-shot prompting*)."
   ]
  },
  {
   "cell_type": "markdown",
   "id": "7cf77be0",
   "metadata": {},
   "source": [
    "## Test"
   ]
  },
  {
   "cell_type": "markdown",
   "id": "511a1066",
   "metadata": {},
   "source": [
    "Vediamo se il prompt funziona usando GPT-4 di OpenAI come LLM (tramite Azure) e LangChain come framework."
   ]
  },
  {
   "cell_type": "code",
   "execution_count": 3,
   "id": "87b009a7",
   "metadata": {},
   "outputs": [],
   "source": [
    "from langchain.prompts import ChatPromptTemplate\n",
    "from langchain.chat_models import ChatOpenAI\n",
    "from langchain.schema.output_parser import StrOutputParser\n",
    "\n",
    "import os\n",
    "import openai\n",
    "from dotenv import find_dotenv, load_dotenv\n",
    "_ = load_dotenv(find_dotenv())\n",
    "from langchain.chat_models import AzureChatOpenAI"
   ]
  },
  {
   "cell_type": "code",
   "execution_count": 4,
   "id": "3d10d252",
   "metadata": {},
   "outputs": [],
   "source": [
    "prompt = ChatPromptTemplate.from_template(template)\n",
    "model = AzureChatOpenAI(deployment_name=\"gpt4_32k_dbrock\", model=\"gpt-4-32k\", temperature=0)\n",
    "output_parser = StrOutputParser()"
   ]
  },
  {
   "cell_type": "code",
   "execution_count": 5,
   "id": "ee83ea58",
   "metadata": {},
   "outputs": [],
   "source": [
    "chain = prompt | model | output_parser"
   ]
  },
  {
   "cell_type": "markdown",
   "id": "8b95ebe9",
   "metadata": {},
   "source": [
    "Per eseguire il test, passiamo il seguente controllo contenente un parametro:"
   ]
  },
  {
   "cell_type": "code",
   "execution_count": 36,
   "id": "cd82147f",
   "metadata": {},
   "outputs": [
    {
     "name": "stdout",
     "output_type": "stream",
     "text": [
      "Enforce dual authorization for [Assignment: organization-defined privileged commands and/or other organization-defined actions].\n"
     ]
    }
   ],
   "source": [
    "print(sp.loc[15, \"Control\"])"
   ]
  },
  {
   "cell_type": "code",
   "execution_count": 12,
   "id": "00234f7b",
   "metadata": {},
   "outputs": [
    {
     "name": "stdout",
     "output_type": "stream",
     "text": [
      "Enforce dual authorization for privileged commands and/or other actions as defined by the Organization.\n"
     ]
    }
   ],
   "source": [
    "answer = chain.invoke({\"control\":sp.loc[15, \"Control\"]})\n",
    "print(answer)"
   ]
  },
  {
   "cell_type": "markdown",
   "id": "d9d4f83e",
   "metadata": {},
   "source": [
    "Ed il seguente controllo non contenente parametri:"
   ]
  },
  {
   "cell_type": "code",
   "execution_count": 38,
   "id": "a6ad0eb7",
   "metadata": {},
   "outputs": [
    {
     "name": "stdout",
     "output_type": "stream",
     "text": [
      "Enforce approved authorizations for logical access to information and system resources in accordance with applicable access control policies.\n"
     ]
    }
   ],
   "source": [
    "print(sp.loc[14, \"Control\"])"
   ]
  },
  {
   "cell_type": "code",
   "execution_count": 39,
   "id": "c67b022c",
   "metadata": {},
   "outputs": [
    {
     "name": "stdout",
     "output_type": "stream",
     "text": [
      "None\n"
     ]
    }
   ],
   "source": [
    "answer = chain.invoke({\"control\":sp.loc[14, \"Control\"]})\n",
    "print(answer)"
   ]
  },
  {
   "cell_type": "markdown",
   "id": "79f0b44e",
   "metadata": {},
   "source": [
    "Ottimo! :) Il modello ha adeguatamente riassunto il controllo che richiedeva all'Organizzazione di definire comandi privilegiati o altre azioni relativamente ai quali applicare la doppia autorizzazione, sostituendo il parametro con testo naturale:  \n",
    "\n",
    "da \"[Assignment: organization-defined privileged commands and/or other organization-defined actions]\"  \n",
    "\n",
    "a \"for privileged commands and/or other actions as defined by the Organization\"  \n",
    "\n",
    "Mentre nel secondo controllo ha correttamente rilevato l'assenza di parametri e restituito un semplice \"None\"."
   ]
  },
  {
   "cell_type": "markdown",
   "id": "add6f2ec",
   "metadata": {},
   "source": [
    "## Esecuzione"
   ]
  },
  {
   "cell_type": "markdown",
   "id": "757ac2a8",
   "metadata": {},
   "source": [
    "Dato l'esito positivo del test, possiamo applicare la chain a tutti i controlli del dataframe sp (ossia i controlli NIST) e creare così una nuova colonna nel dataframe contenente i controlli riscritti come desiderato.  \n",
    "Pertanto:\n",
    "- creo una funzione (chiamata rewrite) che prende in input un controllo NIST e, se il controllo contiene il carattere \"[\", chiama la chain per trasformare i parametri del controllo in linguaggio naturale, altrimenti ritorna il controllo originario\n",
    "- tramite il metodo apply() applico la funzione rewrite a tutti i controlli NIST\n",
    "- creo una nuova colonna chiamata \"Rewritten Control\" riportante i controlli riscritti (o quelli originali nel caso fossero privi di parametri)\n",
    "- rinomino la colonna originaria \"Control\" in \"Original Control\""
   ]
  },
  {
   "cell_type": "code",
   "execution_count": 6,
   "id": "d30b5d2e",
   "metadata": {},
   "outputs": [],
   "source": [
    "def rewrite(x):\n",
    "    if \"[\" not in x:\n",
    "        return x\n",
    "    else:\n",
    "        return chain.invoke({\"control\":x})"
   ]
  },
  {
   "cell_type": "code",
   "execution_count": 7,
   "id": "b3582080",
   "metadata": {},
   "outputs": [
    {
     "name": "stderr",
     "output_type": "stream",
     "text": [
      "Retrying langchain.chat_models.openai.ChatOpenAI.completion_with_retry.<locals>._completion_with_retry in 4.0 seconds as it raised Timeout: Request timed out: HTTPSConnectionPool(host='dbrock.openai.azure.com', port=443): Read timed out. (read timeout=600).\n",
      "Retrying langchain.chat_models.openai.ChatOpenAI.completion_with_retry.<locals>._completion_with_retry in 4.0 seconds as it raised APIConnectionError: Error communicating with OpenAI: ('Connection aborted.', RemoteDisconnected('Remote end closed connection without response')).\n",
      "Retrying langchain.chat_models.openai.ChatOpenAI.completion_with_retry.<locals>._completion_with_retry in 4.0 seconds as it raised Timeout: Request timed out: HTTPSConnectionPool(host='dbrock.openai.azure.com', port=443): Read timed out. (read timeout=600).\n",
      "Retrying langchain.chat_models.openai.ChatOpenAI.completion_with_retry.<locals>._completion_with_retry in 4.0 seconds as it raised Timeout: Request timed out: HTTPSConnectionPool(host='dbrock.openai.azure.com', port=443): Read timed out. (read timeout=600).\n"
     ]
    }
   ],
   "source": [
    "sp[\"Rewritten Control\"] = sp.Control.apply(rewrite)"
   ]
  },
  {
   "cell_type": "code",
   "execution_count": 8,
   "id": "c89b7aac",
   "metadata": {},
   "outputs": [],
   "source": [
    "sp = sp.rename({\"Control\":\"Original Control\"}, axis=1)"
   ]
  },
  {
   "cell_type": "markdown",
   "id": "a16a1230",
   "metadata": {},
   "source": [
    "Ed ecco il nuovo dataframe:"
   ]
  },
  {
   "cell_type": "code",
   "execution_count": 9,
   "id": "01d6f378",
   "metadata": {},
   "outputs": [
    {
     "data": {
      "text/html": [
       "<div>\n",
       "<style scoped>\n",
       "    .dataframe tbody tr th:only-of-type {\n",
       "        vertical-align: middle;\n",
       "    }\n",
       "\n",
       "    .dataframe tbody tr th {\n",
       "        vertical-align: top;\n",
       "    }\n",
       "\n",
       "    .dataframe thead th {\n",
       "        text-align: right;\n",
       "    }\n",
       "</style>\n",
       "<table border=\"1\" class=\"dataframe\">\n",
       "  <thead>\n",
       "    <tr style=\"text-align: right;\">\n",
       "      <th></th>\n",
       "      <th>Control Identifier</th>\n",
       "      <th>Control Name</th>\n",
       "      <th>Original Control</th>\n",
       "      <th>Discussion</th>\n",
       "      <th>Rewritten Control</th>\n",
       "    </tr>\n",
       "  </thead>\n",
       "  <tbody>\n",
       "    <tr>\n",
       "      <th>0</th>\n",
       "      <td>AC-1</td>\n",
       "      <td>Policy and Procedures</td>\n",
       "      <td>a. Develop, document, and disseminate to [Assi...</td>\n",
       "      <td>Access control policy and procedures address t...</td>\n",
       "      <td>a. Develop, document, and disseminate to perso...</td>\n",
       "    </tr>\n",
       "    <tr>\n",
       "      <th>1</th>\n",
       "      <td>AC-2</td>\n",
       "      <td>Account Management</td>\n",
       "      <td>a. Define and document the types of accounts a...</td>\n",
       "      <td>Examples of system account types include indiv...</td>\n",
       "      <td>a. Define and document the types of accounts a...</td>\n",
       "    </tr>\n",
       "    <tr>\n",
       "      <th>2</th>\n",
       "      <td>AC-2</td>\n",
       "      <td>Account Management | Automated System Account ...</td>\n",
       "      <td>Support the management of system accounts usin...</td>\n",
       "      <td>Automated system account management includes u...</td>\n",
       "      <td>Support the management of system accounts usin...</td>\n",
       "    </tr>\n",
       "    <tr>\n",
       "      <th>3</th>\n",
       "      <td>AC-2</td>\n",
       "      <td>Account Management | Automated Temporary and E...</td>\n",
       "      <td>Automatically [Selection: remove; disable] tem...</td>\n",
       "      <td>Management of temporary and emergency accounts...</td>\n",
       "      <td>Automatically remove or disable temporary and ...</td>\n",
       "    </tr>\n",
       "    <tr>\n",
       "      <th>4</th>\n",
       "      <td>AC-2</td>\n",
       "      <td>Account Management | Disable Accounts</td>\n",
       "      <td>Disable accounts within [Assignment: organizat...</td>\n",
       "      <td>Disabling expired, inactive, or otherwise anom...</td>\n",
       "      <td>Disable accounts within a time period defined ...</td>\n",
       "    </tr>\n",
       "    <tr>\n",
       "      <th>...</th>\n",
       "      <td>...</td>\n",
       "      <td>...</td>\n",
       "      <td>...</td>\n",
       "      <td>...</td>\n",
       "      <td>...</td>\n",
       "    </tr>\n",
       "    <tr>\n",
       "      <th>1002</th>\n",
       "      <td>SR-11</td>\n",
       "      <td>Component Authenticity</td>\n",
       "      <td>a. Develop and implement anti-counterfeit poli...</td>\n",
       "      <td>Sources of counterfeit components include manu...</td>\n",
       "      <td>a. Develop and implement anti-counterfeit poli...</td>\n",
       "    </tr>\n",
       "    <tr>\n",
       "      <th>1003</th>\n",
       "      <td>SR-11</td>\n",
       "      <td>Component Authenticity | Anti-counterfeit Trai...</td>\n",
       "      <td>Train [Assignment: organization-defined person...</td>\n",
       "      <td>None.</td>\n",
       "      <td>Train personnel or roles defined by the Organi...</td>\n",
       "    </tr>\n",
       "    <tr>\n",
       "      <th>1004</th>\n",
       "      <td>SR-11</td>\n",
       "      <td>Component Authenticity | Configuration Control...</td>\n",
       "      <td>Maintain configuration control over the follow...</td>\n",
       "      <td>None.</td>\n",
       "      <td>Maintain configuration control over the follow...</td>\n",
       "    </tr>\n",
       "    <tr>\n",
       "      <th>1005</th>\n",
       "      <td>SR-11</td>\n",
       "      <td>Component Authenticity | Anti-counterfeit Scan...</td>\n",
       "      <td>Scan for counterfeit system components [Assign...</td>\n",
       "      <td>The type of component determines the type of s...</td>\n",
       "      <td>Scan for counterfeit system components at a fr...</td>\n",
       "    </tr>\n",
       "    <tr>\n",
       "      <th>1006</th>\n",
       "      <td>SR-12</td>\n",
       "      <td>Component Disposal</td>\n",
       "      <td>Dispose of [Assignment: organization-defined d...</td>\n",
       "      <td>Data, documentation, tools, or system componen...</td>\n",
       "      <td>Dispose of data, documentation, tools, or syst...</td>\n",
       "    </tr>\n",
       "  </tbody>\n",
       "</table>\n",
       "<p>1007 rows × 5 columns</p>\n",
       "</div>"
      ],
      "text/plain": [
       "     Control Identifier                                       Control Name  \\\n",
       "0                  AC-1                              Policy and Procedures   \n",
       "1                  AC-2                                 Account Management   \n",
       "2                  AC-2  Account Management | Automated System Account ...   \n",
       "3                  AC-2  Account Management | Automated Temporary and E...   \n",
       "4                  AC-2              Account Management | Disable Accounts   \n",
       "...                 ...                                                ...   \n",
       "1002              SR-11                             Component Authenticity   \n",
       "1003              SR-11  Component Authenticity | Anti-counterfeit Trai...   \n",
       "1004              SR-11  Component Authenticity | Configuration Control...   \n",
       "1005              SR-11  Component Authenticity | Anti-counterfeit Scan...   \n",
       "1006              SR-12                                 Component Disposal   \n",
       "\n",
       "                                       Original Control  \\\n",
       "0     a. Develop, document, and disseminate to [Assi...   \n",
       "1     a. Define and document the types of accounts a...   \n",
       "2     Support the management of system accounts usin...   \n",
       "3     Automatically [Selection: remove; disable] tem...   \n",
       "4     Disable accounts within [Assignment: organizat...   \n",
       "...                                                 ...   \n",
       "1002  a. Develop and implement anti-counterfeit poli...   \n",
       "1003  Train [Assignment: organization-defined person...   \n",
       "1004  Maintain configuration control over the follow...   \n",
       "1005  Scan for counterfeit system components [Assign...   \n",
       "1006  Dispose of [Assignment: organization-defined d...   \n",
       "\n",
       "                                             Discussion  \\\n",
       "0     Access control policy and procedures address t...   \n",
       "1     Examples of system account types include indiv...   \n",
       "2     Automated system account management includes u...   \n",
       "3     Management of temporary and emergency accounts...   \n",
       "4     Disabling expired, inactive, or otherwise anom...   \n",
       "...                                                 ...   \n",
       "1002  Sources of counterfeit components include manu...   \n",
       "1003                                              None.   \n",
       "1004                                              None.   \n",
       "1005  The type of component determines the type of s...   \n",
       "1006  Data, documentation, tools, or system componen...   \n",
       "\n",
       "                                      Rewritten Control  \n",
       "0     a. Develop, document, and disseminate to perso...  \n",
       "1     a. Define and document the types of accounts a...  \n",
       "2     Support the management of system accounts usin...  \n",
       "3     Automatically remove or disable temporary and ...  \n",
       "4     Disable accounts within a time period defined ...  \n",
       "...                                                 ...  \n",
       "1002  a. Develop and implement anti-counterfeit poli...  \n",
       "1003  Train personnel or roles defined by the Organi...  \n",
       "1004  Maintain configuration control over the follow...  \n",
       "1005  Scan for counterfeit system components at a fr...  \n",
       "1006  Dispose of data, documentation, tools, or syst...  \n",
       "\n",
       "[1007 rows x 5 columns]"
      ]
     },
     "execution_count": 9,
     "metadata": {},
     "output_type": "execute_result"
    }
   ],
   "source": [
    "sp"
   ]
  },
  {
   "cell_type": "markdown",
   "id": "72e972bc",
   "metadata": {},
   "source": [
    "Se prendiamo un controllo originario a caso, contenente dei parametri:"
   ]
  },
  {
   "cell_type": "code",
   "execution_count": 10,
   "id": "7d7e57b0",
   "metadata": {},
   "outputs": [
    {
     "name": "stdout",
     "output_type": "stream",
     "text": [
      "a. Define and document the types of accounts allowed and specifically prohibited for use within the system;\n",
      "b. Assign account managers;\n",
      "c. Require [Assignment: organization-defined prerequisites and criteria] for group and role membership;\n",
      "d. Specify:\n",
      "1. Authorized users of the system;\n",
      "2. Group and role membership; and\n",
      "3. Access authorizations (i.e., privileges) and [Assignment: organization-defined attributes (as required)] for each account;\n",
      "e. Require approvals by [Assignment: organization-defined personnel or roles] for requests to create accounts;\n",
      "f. Create, enable, modify, disable, and remove accounts in accordance with [Assignment: organization-defined policy, procedures, prerequisites, and criteria];\n",
      "g. Monitor the use of accounts;\n",
      "h. Notify account managers and [Assignment: organization-defined personnel or roles] within:\n",
      "1. [Assignment: organization-defined time period] when accounts are no longer required;\n",
      "2. [Assignment: organization-defined time period] when users are terminated or transferred; and\n",
      "3. [Assignment: organization-defined time period] when system usage or need-to-know changes for an individual;\n",
      "i. Authorize access to the system based on:\n",
      "1. A valid access authorization;\n",
      "2. Intended system usage; and\n",
      "3. [Assignment: organization-defined attributes (as required)];\n",
      "j. Review accounts for compliance with account management requirements [Assignment: organization-defined frequency];\n",
      "k. Establish and implement a process for changing shared or group account authenticators (if deployed) when individuals are removed from the group; and\n",
      "l. Align account management processes with personnel termination and transfer processes.\n"
     ]
    }
   ],
   "source": [
    "print(sp.loc[1, \"Original Control\"])"
   ]
  },
  {
   "cell_type": "markdown",
   "id": "3fb98944",
   "metadata": {},
   "source": [
    "Possiamo vedere che è stato riscritto in linguaggio naturale rimuovendo i parametri:"
   ]
  },
  {
   "cell_type": "code",
   "execution_count": 11,
   "id": "be904a2d",
   "metadata": {},
   "outputs": [
    {
     "name": "stdout",
     "output_type": "stream",
     "text": [
      "a. Define and document the types of accounts allowed and specifically prohibited for use within the system;\n",
      "b. Assign account managers;\n",
      "c. Require prerequisites and criteria defined by the Organization for group and role membership;\n",
      "d. Specify:\n",
      "1. Authorized users of the system;\n",
      "2. Group and role membership; and\n",
      "3. Access authorizations (i.e., privileges) and attributes as required and defined by the Organization for each account;\n",
      "e. Require approvals by personnel or roles defined by the Organization for requests to create accounts;\n",
      "f. Create, enable, modify, disable, and remove accounts in accordance with the policy, procedures, prerequisites, and criteria defined by the Organization;\n",
      "g. Monitor the use of accounts;\n",
      "h. Notify account managers and personnel or roles defined by the Organization within:\n",
      "1. A time period defined by the Organization when accounts are no longer required;\n",
      "2. A time period defined by the Organization when users are terminated or transferred; and\n",
      "3. A time period defined by the Organization when system usage or need-to-know changes for an individual;\n",
      "i. Authorize access to the system based on:\n",
      "1. A valid access authorization;\n",
      "2. Intended system usage; and\n",
      "3. Attributes as required and defined by the Organization;\n",
      "j. Review accounts for compliance with account management requirements at a frequency defined by the Organization;\n",
      "k. Establish and implement a process for changing shared or group account authenticators (if deployed) when individuals are removed from the group; and\n",
      "l. Align account management processes with personnel termination and transfer processes.\n"
     ]
    }
   ],
   "source": [
    "print(sp.loc[1, \"Rewritten Control\"])"
   ]
  },
  {
   "cell_type": "markdown",
   "id": "84021b64",
   "metadata": {},
   "source": [
    "Salviamo tutto in un file excel:"
   ]
  },
  {
   "cell_type": "code",
   "execution_count": 12,
   "id": "24050f4f",
   "metadata": {},
   "outputs": [],
   "source": [
    "with pd.ExcelWriter('FNCS Augmented.xlsx') as writer:\n",
    "    csf.to_excel(writer, sheet_name=\"FNCS\", index=False)\n",
    "    sp.to_excel(writer, sheet_name=\"800-53rev.5\", index=False)\n",
    "    cis.to_excel(writer, sheet_name=\"CIS CSCv8\", index=False)"
   ]
  },
  {
   "cell_type": "markdown",
   "id": "6d71e409",
   "metadata": {},
   "source": [
    "*That's all, Folks!*"
   ]
  }
 ],
 "metadata": {
  "kernelspec": {
   "display_name": "Python 3 (ipykernel)",
   "language": "python",
   "name": "python3"
  },
  "language_info": {
   "codemirror_mode": {
    "name": "ipython",
    "version": 3
   },
   "file_extension": ".py",
   "mimetype": "text/x-python",
   "name": "python",
   "nbconvert_exporter": "python",
   "pygments_lexer": "ipython3",
   "version": "3.11.5"
  }
 },
 "nbformat": 4,
 "nbformat_minor": 5
}
